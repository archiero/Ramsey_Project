{
 "cells": [
  {
   "cell_type": "code",
   "execution_count": 1,
   "metadata": {
    "collapsed": false
   },
   "outputs": [
    {
     "name": "stdout",
     "output_type": "stream",
     "text": [
      "Object `np.random` not found.\n"
     ]
    }
   ],
   "source": [
    "import numpy\n",
    "np.random?"
   ]
  },
  {
   "cell_type": "code",
   "execution_count": 34,
   "metadata": {
    "collapsed": false
   },
   "outputs": [
    {
     "name": "stdout",
     "output_type": "stream",
     "text": [
      "6\n",
      "[0 1] <class 'numpy.ndarray'>\n",
      "[0 2] <class 'numpy.ndarray'>\n",
      "[0 3] <class 'numpy.ndarray'>\n",
      "[1 2] <class 'numpy.ndarray'>\n",
      "[1 3] <class 'numpy.ndarray'>\n",
      "[2 3] <class 'numpy.ndarray'>\n",
      "4 4\n",
      "[1, 3] [1 3]\n",
      "[6 0 1 2 0 6 3 4 1 3 6 5 2 4 5 6]\n",
      "[0 1 0 2 0 3 1 2 1 3 2 3]\n"
     ]
    },
    {
     "data": {
      "text/plain": [
       "array(4, dtype=uint16)"
      ]
     },
     "execution_count": 34,
     "metadata": {},
     "output_type": "execute_result"
    }
   ],
   "source": [
    "from setup import *\n",
    "import pycuda.driver as cuda\n",
    "import pycuda.autoinit\n",
    "from pycuda.compiler import SourceModule\n",
    "import pycuda.gpuarray as gpuarray\n",
    "import random\n",
    "\n",
    "def choose(n,k):\n",
    "    try: \n",
    "        return int(math.factorial(n)/math.factorial(k)/math.factorial(n-k))\n",
    "    except:\n",
    "        return 0\n",
    "\n",
    "\n",
    "N=4\n",
    "num_edges = choose(N,2)\n",
    "print(num_edges)\n",
    "edge_idx_to_pair = list(it.combinations(range(N),2))\n",
    "edge_idx_to_pair = np.array(edge_idx_to_pair).astype('int16')\n",
    "#print(edge_idx_to_pair)\n",
    "edge_pair_to_idx = (num_edges/2*np.eye(N)).astype('uint16')\n",
    "for (idx,e) in enumerate(edge_idx_to_pair):\n",
    "    print(e,type(e))\n",
    "    edge_pair_to_idx[tuple(e)] = idx\n",
    "edge_pair_to_idx += edge_pair_to_idx.T\n",
    "\n",
    "\n",
    "idx = 4\n",
    "e = edge_idx_to_pair[idx]\n",
    "print(idx, edge_pair_to_idx[tuple(e)])\n",
    "\n",
    "e = [1,3]\n",
    "idx = edge_pair_to_idx[tuple(e)]\n",
    "print(e, edge_idx_to_pair[idx])\n",
    "\n",
    "\n",
    "edge_pair_to_idx_gpu = gpuarray.to_gpu(edge_pair_to_idx.ravel())\n",
    "print(edge_pair_to_idx_gpu)\n",
    "edge_idx_to_pair_gpu = gpuarray.to_gpu(edge_idx_to_pair.ravel())\n",
    "print(edge_idx_to_pair_gpu)\n",
    "idx = 3\n",
    "edge_idx_to_pair_gpu[2*idx:2*(idx+1)]\n",
    "pair = [1,3]\n",
    "edge_pair_to_idx_gpu[pair[0]*N+pair[1]]\n",
    "\n",
    "\n"
   ]
  },
  {
   "cell_type": "code",
   "execution_count": 2,
   "metadata": {
    "collapsed": true,
    "scrolled": false
   },
   "outputs": [],
   "source": [
    "from setup import *\n",
    "\n",
    "Ramsey = [3,4]\n",
    "num_vertices = 8\n",
    "num_threads = 5\n",
    "beta = 1\n",
    "num_steps = 5*10**2\n",
    "#main(Ramsey, num_vertices, num_threads, beta, num_steps)"
   ]
  },
  {
   "cell_type": "code",
   "execution_count": null,
   "metadata": {
    "collapsed": true
   },
   "outputs": [],
   "source": [
    "gpu_Ramsey = \"\"\"\n",
    "    __global__ void Ramsey(int *Big_Vector, int length_Big_Vector,int length_sub_graph,int *sub_graph, int *problems)\n",
    "    {\n",
    "        int id = threadIdx.x + blockIdx.x*blockDim.x;\n",
    "        if(id==0)\n",
    "        {\n",
    "            if(Big_Vector[subgraph[0]] == 1)\n",
    "            {\n",
    "                for(int i = 1; i < length_sub_graph; i++)\n",
    "                {\n",
    "                    if(Big_Vector[subgraph[i]] == 0)\n",
    "                    {\n",
    "                        break;\n",
    "                    }\n",
    "                    else if(i == length_sub_graph - 1 && Big_Vector[subgraph[i]] == 1)\n",
    "                    {\n",
    "                        atomicAdd(&problems[0], 1);\n",
    "                    }\n",
    "                }\n",
    "            }\n",
    "            else if(Big_Vector[subgraph[0]] == 0)\n",
    "            {\n",
    "                for(int i = 1; i < length_sub_graph; i++)\n",
    "                {\n",
    "                    if(Big_Vector[subgraph[i]] == 1)\n",
    "                    {\n",
    "                        break;\n",
    "                    }\n",
    "                    else if(i == length_sub_graph - 1 && Big_Vector[subgraph[i]] == 0)\n",
    "                    {\n",
    "                        atomicAdd(&problems[0], 1);\n",
    "                    }\n",
    "                }\n",
    "            }\n",
    "        }\n",
    "    }\n",
    "    \"\"\"\n"
   ]
  },
  {
   "cell_type": "code",
   "execution_count": 6,
   "metadata": {
    "collapsed": false
   },
   "outputs": [
    {
     "name": "stdout",
     "output_type": "stream",
     "text": [
      "6\n",
      "[(array([0, 1]), array([ 0.,  1.])), (array([0, 2]), array([ 0.,  2.])), (array([0, 3]), array([ 1.,  2.])), (array([0, 4]), array([ 0.,  3.])), (array([1, 2]), array([ 1.,  3.])), (array([1, 3]), array([ 2.,  3.])), (array([1, 4]), array([ 0.,  4.])), (array([2, 3]), array([ 1.,  4.])), (array([2, 4]), array([ 2.,  4.])), (array([3, 4]), array([ 3.,  4.]))]\n"
     ]
    }
   ],
   "source": [
    "def choose(n,k):\n",
    "    try: \n",
    "        return int(math.factorial(n)/math.factorial(k)/math.factorial(n-k))\n",
    "    except:\n",
    "        return 0\n",
    "num_vertices = 5\n",
    "#l := length of the subgraph we're trying to create\n",
    "l = 2\n",
    "#This is how we're currently generating the cliques and what we're going to compare our algorithm to\n",
    "cliques = it.combinations(range(num_vertices),l)\n",
    "#This is a 2-dimensional array that holds all of the values for us to search through\n",
    "choose_table = np.array(pd.DataFrame([[choose(i,j) for i in range(num_vertices+1)] for j in range(1,1+l)]).T)\n",
    "#list of all of the arrays generated by the new algorithm\n",
    "result = []\n",
    "#list of all of the arrrays generated by it.combinations\n",
    "original = []\n",
    "for N in range(choose(num_vertices,l)):\n",
    "    index = np.ones(l)*-1\n",
    "    for i in range(1,l+1):\n",
    "        k = l - i +1\n",
    "        j = int(0) \n",
    "        while choose_table[j+1][k-1] <= N:\n",
    "            j+=1\n",
    "        index[k-1] = int(j)\n",
    "        N = N - choose(j,k)\n",
    "    result.append(np.array(index))\n",
    "    original.append(np.array(next(cliques)))\n",
    "#number of elements of result also in original\n",
    "#good = 0\n",
    "#for i in range(len(result)):    \n",
    "    #original[k]==result[i] returns a list of True's and False's which counted as 1's and 0's when the list is summed\n",
    "    #up where each True represents the corresponding elements of original and result being identical So, if the sum \n",
    "    #of the list equals l, then the kth element of original is identical to the ith element of result and the max value\n",
    "    #of this list comprehension is 1. Else, the max value will be 0. Note, recall it.combinations won't output two identical\n",
    "    #arrays so, for each element of result, either it is identical to one element in original or none of them.\n",
    "#    if(np.max([int(np.sum(original[k]==result[i])==l) for k in range(len(original))]))==1:\n",
    "#        good += 1\n",
    "    #else:\n",
    "    #    print('bad')\n",
    "bill = list(zip(original, result))\n",
    "print(bill)"
   ]
  },
  {
   "cell_type": "code",
   "execution_count": null,
   "metadata": {
    "collapsed": true
   },
   "outputs": [],
   "source": [
    "if np.array_equal(np.array(range(3)), np.array(range(4))) == False:\n",
    "    print(\"Cool Beans\")"
   ]
  },
  {
   "cell_type": "code",
   "execution_count": null,
   "metadata": {
    "collapsed": true,
    "scrolled": false
   },
   "outputs": [],
   "source": [
    "def main(Ramsey, num_vertices, num_threads, beta, num_steps):\n",
    "\n",
    "    def choose(n,k):\n",
    "        return int(math.factorial(n)/math.factorial(k)/math.factorial(n-k))\n",
    "\n",
    "    Ramsey.sort()\n",
    "    Ramsey = Ramsey[::-1]\n",
    "    num_colors = len(Ramsey)\n",
    "    Colors = np.arange(num_colors)\n",
    "    Vertices = np.arange(num_vertices)\n",
    "    Edges = list(it.combinations(Vertices,2))\n",
    "    #reverse lookup for edges below.  Eg if slot 3 above contains edge (2,5), the the dict below has entry (2,5):3\n",
    "    Edges_idx = dict((edge, idx) for idx,edge in enumerate(Edges)) \n",
    "    num_edges = len(Edges)\n",
    "\n",
    "    \n",
    "    #This code evenly distributes work to threads so that they all finish at about the same time\n",
    "    vertices_per_clique = Ramsey\n",
    "    edges_per_clique = [choose(v,2) for v in vertices_per_clique] \n",
    "    cliques_per_color = np.asarray([choose(num_vertices,v) for v in vertices_per_clique])\n",
    "    edges_per_color = edges_per_clique * cliques_per_color\n",
    "    computations_per_color = edges_per_color / edges_per_color.sum()\n",
    "\n",
    "    threads_per_color = np.ones(num_colors).astype('int')\n",
    "    remaining_threads = num_threads - threads_per_color.sum()\n",
    "    threads_per_color += np.floor(remaining_threads * computations_per_color).astype('int')\n",
    "    \n",
    "    cliques_per_thread = np.ceil(cliques_per_color / threads_per_color).astype('int')\n",
    "    \n",
    "    #This object below tells each thread which color and set of cliques to monitor.\n",
    "    #It is a list with an entry for each color.  Each entry is itself a 3D-matrix.\n",
    "    #In the matrix for color c, the (i,j,k) entry is the edge_idx of \n",
    "    #the kth edge in the jth clique monitored by the ith thread associated to color c.\n",
    "    #Note: The number of threads for a color might not evenly divide the number of cliques for that color.\n",
    "    #If so, some threads will have 1 less clique than others.  We fill this last entry with -1.\n",
    "    #Later, such a clique will be monochromatic with color = num_colors + 1.\n",
    "    #This color does not appear elsewhere.  Hence we easily spot such a situation and these cliques\n",
    "    #will not be counted as problems.\n",
    "    assign_Threads_to_Cliques = [-1*np.ones([threads_per_color[color],\n",
    "                                             cliques_per_thread[color],\n",
    "                                             edges_per_clique[color]],\n",
    "                                            dtype='int')\n",
    "                                for color in Colors]\n",
    "\n",
    "    for color, clique_size in enumerate(Ramsey):        \n",
    "        num_cliques = cliques_per_color[color]\n",
    "        num_threads = threads_per_color[color]\n",
    "        #Creates a generator to produce all cliques (the list of vertices).\n",
    "        Cliques = it.combinations(Vertices,clique_size)\n",
    "\n",
    "        #Makes the vector [0,1,2,...,num_threads-1,0,1,2,...,num_threads-1,....] of length num_cliques        \n",
    "        assign_Cliques_to_Threads = np.arange(num_cliques) % num_threads\n",
    "        #randomizes assignment, but maintains clique counts\n",
    "        np.random.shuffle(assign_Cliques_to_Threads)    \n",
    "\n",
    "        #A vector that knows where the next open slot on each thread is\n",
    "        next_open_slot = np.zeros(num_threads,dtype='int')\n",
    "        for clique_Vertices, thread in zip(Cliques,assign_Cliques_to_Threads):\n",
    "            #Gets the list of edges in this clique\n",
    "            clique_Edges = list(it.combinations(clique_Vertices,2))\n",
    "            #Converts it to edge_idx\n",
    "            clique_Edges_idx = [Edges_idx[edge] for edge in clique_Edges]        \n",
    "            #Writes it to the correct thread and next open slot on that thread\n",
    "            assign_Threads_to_Cliques[color][thread,next_open_slot[thread]] = clique_Edges_idx\n",
    "            next_open_slot[thread] += 1\n",
    "\n",
    "\n",
    "    #print(\"edges per clique\");print(edges_per_clique);print(\"cliques per color\");print(cliques_per_color);print(\"edges per color\");print(edges_per_color);print(\"threads per color\");print(threads_per_color)\n",
    "    \"\"\"\n",
    "    for color in Colors:        \n",
    "        print(\"color\");print(color);print(\"threads per color\");print(threads_per_color[color]);print(\"cliques per thread\");print(cliques_per_thread[color]);print(\"edges per clique\");print(edges_per_clique[color])    \n",
    "        #for thread in range(threads_per_color[color]):\n",
    "        #    display(assign_Threads_to_Cliques[color][thread])\n",
    "        display(np.array(assign_Threads_to_Cliques[color]))#[thread]))\n",
    "    \"\"\"\n",
    "\n",
    "    def find_problems(Problems,num_problems_per_color,printout=False):    \n",
    "        for color in Colors:        \n",
    "            X = coloring[assign_Threads_to_Cliques[color]]        \n",
    "            Problems[color] = np.all(X == color,axis=2)        \n",
    "            num_problems_per_color[color] = Problems[color].sum()\n",
    "            if printout == True:\n",
    "                print(color)\n",
    "                XF = pd.DataFrame(X.reshape(-1, X.shape[-1]))\n",
    "                ProblemsF = Problems[color].reshape(-1)\n",
    "                XF['problem'] = ProblemsF\n",
    "                display(XF)\n",
    "                display(XF[ProblemsF])\n",
    "        return num_problems_per_color.sum()\n",
    "\n",
    "    if num_colors == 2:\n",
    "        print(\"2 colors\")\n",
    "        def flip():        \n",
    "            coloring[edge_idx] += 1\n",
    "            coloring[edge_idx] %= 2        \n",
    "            return\n",
    "    else:\n",
    "        print(\"more than 2 colors\")\n",
    "        nc = num_colors-1\n",
    "        def flip():\n",
    "            new_color = np.random.randint(0,nc)\n",
    "            if new_color >= coloring[edge_idx]:\n",
    "                new_color += 1\n",
    "            coloring[edge_idx] = new_color\n",
    "            return\n",
    "\n",
    "    coloring = np.random.choice(Colors, size=num_edges+1, replace=True)\n",
    "    coloring[-1] = 1 + Colors[-1]\n",
    "    Problems_current =  [np.zeros(assign_Threads_to_Cliques[color].shape[:-1]).astype('bool') for color in Colors]\n",
    "    num_problems_per_color_current = np.zeros(num_colors).astype('int')\n",
    "    Problems_proposed = [np.zeros(assign_Threads_to_Cliques[color].shape[:-1]).astype('bool') for color in Colors]\n",
    "    num_problems_per_color_proposed = np.zeros(num_colors).astype('int')\n",
    "    double = []\n",
    "    num_problems_current = find_problems(Problems_current, num_problems_per_color_current)#, printout=True)\n",
    "    step = -1\n",
    "    print(step,num_problems_per_color_current,num_problems_current)\n",
    "    for step in range(num_steps):\n",
    "        print()        \n",
    "        edge_idx = np.random.randint(num_edges)\n",
    "        edge_color_current = coloring[edge_idx]    \n",
    "        flip()\n",
    "        num_problems_proposed = find_problems(Problems_proposed, num_problems_per_color_proposed)#, printout=True)\n",
    "        double_check = find_problems(Problems_proposed, num_problems_per_color_proposed)\n",
    "        double.append(np.sum(num_problems_proposed-double_check))\n",
    "        num_problems_diff = num_problems_current - num_problems_proposed\n",
    "        print(num_problems_diff)\n",
    "        if num_problems_diff >= 0:\n",
    "            #accept the move\n",
    "            #print(\"Proposed is better.  Accepting.\")\n",
    "            num_problems_per_color_current[:] = num_problems_per_color_proposed[:]\n",
    "            num_problems_current = num_problems_proposed\n",
    "        else:            \n",
    "            accept = np.exp(beta * num_problems_diff)            \n",
    "            r = np.random.random()\n",
    "            #print(\"Proposed is worse\")\n",
    "            #print(\"But I will accept it anyway I draw a number less than %.3f.  I drew %.3f.\" % (accept,r))            \n",
    "            if r <= accept:\n",
    "                #accept the move\n",
    "            #    print(\"So I accept the move even though it is worse.\")\n",
    "                num_problems_per_color_current[:] = num_problems_per_color_proposed[:]\n",
    "                num_problems_current = num_problems_proposed\n",
    "            else:\n",
    "                #reject the move\n",
    "            #    print(\"So I reject.\")\n",
    "                coloring[edge_idx] = edge_color_current\n",
    "        print(step,coloring[:-1],num_problems_per_color_current,num_problems_current)\n",
    "        if num_problems_current == 0:\n",
    "            break\n",
    "    num_problems_current = find_problems(Problems_current, num_problems_per_color_current, printout=True)\n",
    "    print(\"Double\", np.mean(double), np.var(double))\n",
    "    #print(step,num_problems_per_color_current,num_problems_current)\n",
    "    return coloring"
   ]
  },
  {
   "cell_type": "code",
   "execution_count": null,
   "metadata": {
    "collapsed": true
   },
   "outputs": [],
   "source": [
    "import networkx as nx\n",
    "\n",
    "def choose(n,k):\n",
    "    return int(math.factorial(n)/math.factorial(k)/math.factorial(n-k))\n",
    "\n",
    "#Ramsey.sort()\n",
    "#Ramsey = Ramsey[::-1]\n",
    "#num_colors = len(Ramsey)\n",
    "#Colors = np.arange(num_colors)\n",
    "num_vertices = 10\n",
    "Vertices = np.arange(num_vertices)\n",
    "Edges = list(it.combinations(Vertices,2))\n",
    "Edges_idx = dict((edge, idx) for idx,edge in enumerate(Edges))\n",
    "num_edges = len(Edges)\n",
    "\n",
    "G=nx.Graph()\n",
    "G.add_nodes_from(list(range(num_vertices)))\n",
    "G.nodes()\n",
    "G.add_edges_from(Edges)\n",
    "nx.draw(G)\n",
    "plt.show()"
   ]
  },
  {
   "cell_type": "code",
   "execution_count": null,
   "metadata": {
    "collapsed": true,
    "scrolled": false
   },
   "outputs": [],
   "source": [
    "edge_idx = np.random.randint(num_edges)\n",
    "def flip1():\n",
    "    coloring[edge_idx] = (coloring[edge_idx] + np.random.randint(1,num_colors)) % num_colors\n",
    "    #return(coloring[edge_idx])\n",
    "\n",
    "def flip2():\n",
    "    new_color = np.random.randint(num_colors-1)\n",
    "    if new_color >= coloring[edge_idx]:\n",
    "        new_color += 1\n",
    "    coloring[edge_idx] = new_color\n",
    "    #return(coloring[edge_idx])\n",
    "\n",
    "#for step in range(num_steps):    \n",
    "#    print(coloring[edge_idx]==flip1())\n",
    "%timeit(flip1())\n",
    "%timeit(flip2())\n",
    "    \n",
    "    \n",
    "    "
   ]
  },
  {
   "cell_type": "code",
   "execution_count": null,
   "metadata": {
    "collapsed": true
   },
   "outputs": [],
   "source": [
    "    e = np.random.randint"
   ]
  },
  {
   "cell_type": "code",
   "execution_count": null,
   "metadata": {
    "collapsed": true
   },
   "outputs": [],
   "source": [
    "    e = np.random.choice"
   ]
  },
  {
   "cell_type": "code",
   "execution_count": null,
   "metadata": {
    "collapsed": true
   },
   "outputs": [],
   "source": [
    "        A = pd.merge"
   ]
  },
  {
   "cell_type": "code",
   "execution_count": null,
   "metadata": {
    "collapsed": true
   },
   "outputs": [],
   "source": [
    "np.all?"
   ]
  },
  {
   "cell_type": "code",
   "execution_count": null,
   "metadata": {
    "collapsed": true,
    "scrolled": false
   },
   "outputs": [],
   "source": [
    "from setup import *\n",
    "\n",
    "def choose(n,k):\n",
    "    return int(math.factorial(n)/math.factorial(k)/math.factorial(n-k))\n",
    "\n",
    "Ramsey = [3,4]\n",
    "num_vertices = 8\n",
    "num_threads = 5\n",
    "\n",
    "Ramsey = np.sort(Ramsey)\n",
    "num_colors = len(Ramsey)\n",
    "Colors = np.arange(num_colors)\n",
    "Vertices = np.arange(num_vertices)\n",
    "Edges = list(it.combinations(Vertices,2))\n",
    "Edges_idx = dict((edge, idx) for idx,edge in enumerate(Edges))\n",
    "num_edges = len(Edges)\n",
    "\n",
    "vertices_per_clique = Ramsey\n",
    "edges_per_clique = [choose(v,2) for v in vertices_per_clique] \n",
    "cliques_per_color = np.asarray([choose(num_vertices,v) for v in vertices_per_clique])\n",
    "edges_per_color = edges_per_clique * cliques_per_color\n",
    "threads_per_color = np.floor(num_threads * (edges_per_color / edges_per_color.sum())).astype('int')\n",
    "cliques_per_thread = np.ceil(cliques_per_color / threads_per_color).astype('int')\n",
    "assign_Threads_to_Cliques = [[[[-1\n",
    "                                for _ in range(edges_per_clique[color])]\n",
    "                                for _ in range(cliques_per_thread[color])]\n",
    "                                for _ in range(threads_per_color[color])]\n",
    "                                for color in Colors]\n",
    "\n",
    "for color, clique_size in enumerate(Ramsey):    \n",
    "    num_cliques = cliques_per_color[color]\n",
    "    num_threads = threads_per_color[color]\n",
    "    Cliques = it.combinations(Vertices,clique_size)\n",
    "    \n",
    "    assign_Cliques_to_Threads = np.arange(num_cliques) % num_threads \n",
    "    np.random.shuffle(assign_Cliques_to_Threads)    \n",
    "\n",
    "    next_open_slot = np.zeros(num_threads,dtype='int')\n",
    "    for clique_Vertices, thread in zip(Cliques,assign_Cliques_to_Threads):\n",
    "        clique_Edges = list(it.combinations(clique_Vertices,2))\n",
    "        \n",
    "        clique_Edges_idx = [Edges_idx[edge] for edge in clique_Edges]        \n",
    "        \n",
    "        assign_Threads_to_Cliques[color][thread][next_open_slot[thread]] = clique_Edges_idx\n",
    "        \n",
    "        next_open_slot[thread] += 1\n",
    "\n",
    "\"\"\"\n",
    "print(\"edges per clique\");print(edges_per_clique);print(\"cliques per color\");print(cliques_per_color);print(\"edges per color\");print(edges_per_color);print(\"threads per color\");print(threads_per_color)\n",
    "for color in Colors:        \n",
    "    print(\"color\");print(color);print(\"threads per color\");print(threads_per_color[color]);print(\"cliques per thread\");print(cliques_per_thread[color]);print(\"edges per clique\");print(edges_per_clique[color])    \n",
    "    #for thread in range(threads_per_color[color]):\n",
    "    #    display(assign_Threads_to_Cliques[color][thread])\n",
    "    display(np.array(assign_Threads_to_Cliques[color]))#[thread]))\n",
    "\"\"\"\n",
    "\n",
    "def count_issues(coloring):\n",
    "    for color in Colors:\n",
    "        for thread in range(threads_per_color[color]):            \n",
    "            #for clique in Cliques:\n",
    "            #    coloring[clique]\n",
    "            X = np.array(assign_Threads_to_Cliques[color][thread])\n",
    "            print(type(X))\n",
    "            print(coloring[X])\n",
    "\n",
    "            #print(type(assign_Threads_to_Cliques[color][thread]))\n",
    "            #print(coloring[assign_Threads_to_Cliques[color][thread]])\n",
    "            \n",
    "\n",
    "coloring = np.random.choice(Colors, size=num_edges+1, replace=True)\n",
    "coloring[-1] = 1 + Colors[-1]\n",
    "print(coloring)\n",
    "count_issues(coloring)"
   ]
  },
  {
   "cell_type": "code",
   "execution_count": null,
   "metadata": {
    "collapsed": true
   },
   "outputs": [],
   "source": [
    "assign_threads_to_cliques = []\n",
    "#assign_threads_to_cliques = [np.full([threads_per_color[c],cliques_per_thread[c],edges_per_clique[c]],np.nan)\n",
    "#                            for c in Colors]\n",
    "           \n",
    "\n",
    "#assign_threads_to_cliques = [[[np.full(edges_per_clique[color], np.nan)\n",
    "#                               for _ in range(cliques_per_thread[color])]\n",
    "#                               for _ in range(threads_per_color[color])]\n",
    "#                               for color in Colors]\n",
    "#assign_threads_to_cliques = [np.full([threads_per_color[c],cliques_per_thread[c],edges_per_clique[c]], np.nan, dtype='int')\n",
    "#                               for c in Colors]\n",
    "#assign_threads_to_cliques = [np.empty([threads_per_color[c],cliques_per_thread[c],edges_per_clique[c]], dtype='int')\n",
    "#                               for c in Colors]\n",
    "\n",
    "#print(assign_threads_to_cliques)\n",
    "for color, clique_size in enumerate(Ramsey):\n",
    "    num_cliques = cliques_per_color[color]\n",
    "    num_threads = cliques_per_thread[color]\n",
    "    Cliques = it.combinations(Vertices,clique_size)\n",
    "    \n",
    "    \n",
    "    assign_cliques_to_threads = np.arange(num_cliques) % num_threads\n",
    "    np.random.shuffle(assign_cliques_to_threads)\n",
    "    #assign_threads_to_cliques.append([])\n",
    "\n",
    "    next_open_slot = np.zeros(threads_per_color[color],dtype='int')\n",
    "    for clique_Vertices, thread in zip(Cliques,assign_cliques_to_threads):\n",
    "        clique_Edges = np.array(list(it.combinations(clique_Vertices,2)))\n",
    "        display(clique_Edges)\n",
    "        print(Edges in clique_Edges)"
   ]
  },
  {
   "cell_type": "code",
   "execution_count": null,
   "metadata": {
    "collapsed": true
   },
   "outputs": [],
   "source": [
    "        \n",
    "        #assign_threads_to_cliques[color][thread,clique] = clique#.append(clique)\n",
    "        #display(assign_threads_to_cliques[color][thread])\n",
    "        #assign_threads_to_cliques[color][thread][next_open_slot[thread]] = Edges\n",
    "        #next_open_slot[thread] +=1\n",
    "        #display(assign_threads_to_cliques[color][thread])\n",
    "        #display(next_open_slot)\n",
    "        \n",
    "    for thread in assign_threads_to_cliques[color]:\n",
    "        print(thread)\n",
    "        print()"
   ]
  },
  {
   "cell_type": "code",
   "execution_count": null,
   "metadata": {
    "collapsed": true
   },
   "outputs": [],
   "source": [
    "x = np.asarray(assign_threads_to_cliques[0])\n",
    "x.shape"
   ]
  },
  {
   "cell_type": "code",
   "execution_count": null,
   "metadata": {
    "collapsed": true
   },
   "outputs": [],
   "source": [
    "\n",
    "    \n",
    "print(coloring)"
   ]
  },
  {
   "cell_type": "code",
   "execution_count": null,
   "metadata": {
    "collapsed": true
   },
   "outputs": [],
   "source": [
    "a=5\n",
    "for i in range(3):\n",
    "    b is a\n",
    "    b += b+1\n",
    "print(a)\n",
    "b is a\n",
    "b += 1\n",
    "print(a is b)"
   ]
  },
  {
   "cell_type": "code",
   "execution_count": null,
   "metadata": {
    "collapsed": true
   },
   "outputs": [],
   "source": [
    "l = []\n",
    "display(l)\n",
    "l.append([1,2,3])\n",
    "display(l)\n",
    "l.append([1,2,3])\n",
    "display(l)"
   ]
  }
 ],
 "metadata": {
  "kernelspec": {
   "display_name": "Python 3",
   "language": "python",
   "name": "python3"
  },
  "language_info": {
   "codemirror_mode": {
    "name": "ipython",
    "version": 3
   },
   "file_extension": ".py",
   "mimetype": "text/x-python",
   "name": "python",
   "nbconvert_exporter": "python",
   "pygments_lexer": "ipython3",
   "version": "3.6.0"
  }
 },
 "nbformat": 4,
 "nbformat_minor": 2
}
