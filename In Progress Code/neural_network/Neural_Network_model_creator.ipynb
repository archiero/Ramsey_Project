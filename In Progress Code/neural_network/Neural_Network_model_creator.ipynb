{
 "cells": [
  {
   "cell_type": "code",
   "execution_count": 1,
   "metadata": {},
   "outputs": [
    {
     "name": "stderr",
     "output_type": "stream",
     "text": [
      "Using TensorFlow backend.\n",
      "/home/particle/anaconda3/lib/python3.6/importlib/_bootstrap.py:205: RuntimeWarning: compiletime version 3.5 of module 'tensorflow.python.framework.fast_tensor_util' does not match runtime version 3.6\n",
      "  return f(*args, **kwds)\n",
      "/home/particle/anaconda3/lib/python3.6/site-packages/matplotlib/colors.py:680: MatplotlibDeprecationWarning: The is_string_like function was deprecated in version 2.1.\n",
      "  not cbook.is_string_like(colors[0]):\n",
      "/home/particle/anaconda3/lib/python3.6/site-packages/matplotlib/style/core.py:92: MatplotlibDeprecationWarning: The is_string_like function was deprecated in version 2.1.\n",
      "  if cbook.is_string_like(style) or hasattr(style, 'keys'):\n",
      "/home/particle/anaconda3/lib/python3.6/site-packages/matplotlib/style/core.py:99: MatplotlibDeprecationWarning: The is_string_like function was deprecated in version 2.1.\n",
      "  if not cbook.is_string_like(style):\n",
      "/home/particle/anaconda3/lib/python3.6/site-packages/matplotlib/__init__.py:1273: MatplotlibDeprecationWarning: The is_string_like function was deprecated in version 2.1.\n",
      "  if is_string_like(group):\n"
     ]
    }
   ],
   "source": [
    "from setup import *\n",
    "\n",
    "exec(open(\"NN_training.py\", mode = \"r\").read())\n",
    " \n",
    "data = np.asarray([np.array(row) for row in data])\n",
    "target = np.asarray(target)"
   ]
  },
  {
   "cell_type": "markdown",
   "metadata": {},
   "source": [
    "The Sequential() command is really useful. It allows us to build the model intuitivey. Basically, each model.add() adds a new layer with those hyper-parameters. Then, I train it, look at the testing mean absolute error and save what the model predicts for data_test as first. Later, when I back up and reload the model, I want to see if the reloaded model yields the exact same results as the original. If it does, I know the backup and reloading is successful. Finally, look at the time for one step, it's on the order of microseconds which will allow us to continually update the model every step."
   ]
  },
  {
   "cell_type": "code",
   "execution_count": 2,
   "metadata": {},
   "outputs": [
    {
     "name": "stdout",
     "output_type": "stream",
     "text": [
      "3730\n"
     ]
    }
   ],
   "source": [
    "model = Sequential()\n",
    "model.add(Dense(46, activation='sigmoid', input_dim=(int(choose(40,2)+1))))\n",
    "model.add(Dense(20, activation = 'sigmoid'))\n",
    "model.add(Dense(1, activation='sigmoid'))\n",
    "model.compile(optimizer='adam', loss = \"mean_absolute_error\")\n",
    "\n",
    "data_train, data_test, target_train, target_test = train_test_split(data, target)\n",
    "print(len(target))\n",
    "# Train the model, iterating on the data in batches of 32 samples\n",
    "model.fit(data_train, target_train, epochs=1000, batch_size=150, verbose = 0)\n",
    "print(model.evaluate(data_test, target_test))\n",
    "first = model.predict(data_test)"
   ]
  },
  {
   "cell_type": "code",
   "execution_count": 12,
   "metadata": {},
   "outputs": [
    {
     "data": {
      "text/plain": [
       "21"
      ]
     },
     "execution_count": 12,
     "metadata": {},
     "output_type": "execute_result"
    }
   ],
   "source": [
    "open(\"NN_training.py\", mode = \"w\").write(\"target = []\\ndata = []\")"
   ]
  },
  {
   "cell_type": "markdown",
   "metadata": {},
   "source": [
    "Here's the backup commands. I found them online and they write the model's shape and hyperparameters to a json file along with the weights. And, as you can see, the model is successfully backed up and reloaded with ease."
   ]
  },
  {
   "cell_type": "code",
   "execution_count": 8,
   "metadata": {},
   "outputs": [
    {
     "data": {
      "text/plain": [
       "94357.356795953907"
      ]
     },
     "execution_count": 8,
     "metadata": {},
     "output_type": "execute_result"
    }
   ],
   "source": [
    "mean_absolute_error(target_test, model.predict(data_test))"
   ]
  }
 ],
 "metadata": {
  "kernelspec": {
   "display_name": "Python 3",
   "language": "python",
   "name": "python3"
  },
  "language_info": {
   "codemirror_mode": {
    "name": "ipython",
    "version": 3
   },
   "file_extension": ".py",
   "mimetype": "text/x-python",
   "name": "python",
   "nbconvert_exporter": "python",
   "pygments_lexer": "ipython3",
   "version": "3.6.2"
  }
 },
 "nbformat": 4,
 "nbformat_minor": 2
}
